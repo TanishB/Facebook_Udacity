{
 "cells": [
  {
   "cell_type": "markdown",
   "metadata": {},
   "source": [
    "# Project: Local Differential Privacy\n",
    "\n",
    "As you can see, the basic sum query is not differentially private at all! In truth, differential privacy always requires a form of randomness added to the query. Let me show you what I mean.\n",
    "\n",
    "### Randomized Response (Local Differential Privacy)\n",
    "\n",
    "Let's say I have a group of people I wish to survey about a very taboo behavior which I think they will lie about (say, I want to know if they have ever committed a certain kind of crime). I'm not a policeman, I'm just trying to collect statistics to understand the higher level trend in society. So, how do we do this? One technique is to add randomness to each person's response by giving each person the following instructions (assuming I'm asking a simple yes/no question):\n",
    "\n",
    "- Flip a coin 2 times.\n",
    "- If the first coin flip is heads, answer honestly\n",
    "- If the first coin flip is tails, answer according to the second coin flip (heads for yes, tails for no)!\n",
    "\n",
    "Thus, each person is now protected with \"plausible deniability\". If they answer \"Yes\" to the question \"have you committed X crime?\", then it might becasue they actually did, or it might be becasue they are answering according to a random coin flip. Each person has a high degree of protection. Furthermore, we can recover the underlying statistics with some accuracy, as the \"true statistics\" are simply averaged with a 50% probability. Thus, if we collect a bunch of samples and it turns out that 60% of people answer yes, then we know that the TRUE distribution is actually centered around 70%, because 70% averaged wtih 50% (a coin flip) is 60% which is the result we obtained. \n",
    "\n",
    "However, it should be noted that, especially when we only have a few samples, this comes at the cost of accuracy. This tradeoff exists across all of Differential Privacy. The greater the privacy protection (plausible deniability) the less accurate the results. \n",
    "\n",
    "Let's implement this local DP for our database before!"
   ]
  },
  {
   "cell_type": "code",
   "execution_count": 1,
   "metadata": {},
   "outputs": [],
   "source": [
    "import torch"
   ]
  },
  {
   "cell_type": "code",
   "execution_count": 2,
   "metadata": {},
   "outputs": [],
   "source": [
    "def getParallelDB(db , removeIndex):\n",
    "    return(torch.cat((db[:removeIndex] , db[removeIndex+1:])))"
   ]
  },
  {
   "cell_type": "code",
   "execution_count": 3,
   "metadata": {},
   "outputs": [],
   "source": [
    "def getParallelDatabases(db):\n",
    "    parallelDatabases = []\n",
    "    for i in range(len(db)):\n",
    "        pdb = getParallelDB(db , i)\n",
    "        parallelDatabases.append(pdb)\n",
    "    \n",
    "    return parallelDatabases"
   ]
  },
  {
   "cell_type": "code",
   "execution_count": 4,
   "metadata": {},
   "outputs": [],
   "source": [
    "def get_createDB_and_parallels(numOfEntries):\n",
    "    db = torch.rand(numOfEntries)>0.5\n",
    "    pdbs = getParallelDatabases(db)\n",
    "    return(db , pdbs)"
   ]
  },
  {
   "cell_type": "code",
   "execution_count": 7,
   "metadata": {},
   "outputs": [],
   "source": [
    "db, pdbs = get_createDB_and_parallels(100)"
   ]
  },
  {
   "cell_type": "code",
   "execution_count": 10,
   "metadata": {},
   "outputs": [],
   "source": [
    "trueResult = torch.mean(db.float())"
   ]
  },
  {
   "cell_type": "code",
   "execution_count": 11,
   "metadata": {},
   "outputs": [
    {
     "data": {
      "text/plain": [
       "tensor(0.5600)"
      ]
     },
     "execution_count": 11,
     "metadata": {},
     "output_type": "execute_result"
    }
   ],
   "source": [
    "trueResult"
   ]
  },
  {
   "cell_type": "markdown",
   "metadata": {},
   "source": [
    "We want to noise our dataset with LocalDifferential Privacy and it is all about adding noise to the data itself\n",
    "# -\n",
    "So adding noise to data means replacing some of these values random values "
   ]
  },
  {
   "cell_type": "code",
   "execution_count": 14,
   "metadata": {},
   "outputs": [],
   "source": [
    "firstCoinFlip = (torch.rand(len(db)) > 0.5).float()"
   ]
  },
  {
   "cell_type": "code",
   "execution_count": 15,
   "metadata": {},
   "outputs": [
    {
     "data": {
      "text/plain": [
       "tensor([0., 0., 0., 0., 1., 1., 0., 0., 0., 1., 0., 0., 0., 0., 1., 1., 1., 1.,\n",
       "        0., 1., 1., 0., 0., 0., 1., 0., 0., 0., 0., 0., 1., 1., 1., 0., 1., 1.,\n",
       "        0., 0., 0., 1., 0., 1., 0., 1., 0., 1., 1., 1., 0., 1., 1., 0., 0., 1.,\n",
       "        1., 0., 1., 1., 0., 1., 0., 1., 1., 0., 0., 0., 0., 0., 1., 0., 1., 1.,\n",
       "        0., 1., 0., 1., 1., 1., 0., 0., 1., 0., 1., 0., 0., 0., 0., 1., 1., 0.,\n",
       "        1., 0., 0., 1., 1., 0., 1., 0., 1., 0.])"
      ]
     },
     "execution_count": 15,
     "metadata": {},
     "output_type": "execute_result"
    }
   ],
   "source": [
    "firstCoinFlip"
   ]
  },
  {
   "cell_type": "code",
   "execution_count": 16,
   "metadata": {},
   "outputs": [],
   "source": [
    "secondCoinFlip = (torch.rand(len(db)) > 0.5).float()"
   ]
  },
  {
   "cell_type": "code",
   "execution_count": 17,
   "metadata": {},
   "outputs": [
    {
     "data": {
      "text/plain": [
       "tensor([1., 1., 0., 0., 0., 1., 1., 0., 1., 0., 1., 1., 0., 1., 1., 1., 0., 0.,\n",
       "        0., 1., 1., 1., 1., 1., 1., 1., 0., 1., 1., 1., 1., 1., 0., 0., 0., 1.,\n",
       "        1., 0., 0., 0., 0., 1., 0., 0., 1., 1., 0., 1., 0., 1., 1., 1., 0., 1.,\n",
       "        0., 1., 0., 0., 0., 0., 0., 0., 0., 0., 1., 0., 1., 0., 0., 0., 0., 1.,\n",
       "        0., 0., 0., 0., 1., 1., 0., 1., 1., 1., 1., 0., 0., 1., 1., 0., 0., 1.,\n",
       "        1., 0., 0., 0., 0., 1., 1., 0., 0., 1.])"
      ]
     },
     "execution_count": 17,
     "metadata": {},
     "output_type": "execute_result"
    }
   ],
   "source": [
    "secondCoinFlip"
   ]
  },
  {
   "cell_type": "markdown",
   "metadata": {},
   "source": [
    "If 1st coinFlip is head(that means 1) we keep the values that are inthe database<br>\n",
    "So we can Multiply the database with firstCoinFlip<br>\n",
    "After we'll having 0 at the places tail occured<br>\n",
    "Now I can do (1 - firstCoinFlip) to interchange ones and zeroes and after I can multiply it with secondCoinFlip"
   ]
  },
  {
   "cell_type": "code",
   "execution_count": 18,
   "metadata": {},
   "outputs": [
    {
     "data": {
      "text/plain": [
       "tensor([0., 0., 0., 0., 0., 0., 0., 0., 0., 1., 0., 0., 0., 0., 0., 1., 0., 0.,\n",
       "        0., 1., 0., 0., 0., 0., 1., 0., 0., 0., 0., 0., 1., 0., 1., 0., 1., 0.,\n",
       "        0., 0., 0., 1., 0., 1., 0., 0., 0., 1., 0., 0., 0., 0., 1., 0., 0., 1.,\n",
       "        0., 0., 0., 0., 0., 0., 0., 0., 1., 0., 0., 0., 0., 0., 1., 0., 1., 1.,\n",
       "        0., 1., 0., 1., 0., 1., 0., 0., 0., 0., 1., 0., 0., 0., 0., 1., 1., 0.,\n",
       "        1., 0., 0., 1., 0., 0., 1., 0., 1., 0.])"
      ]
     },
     "execution_count": 18,
     "metadata": {},
     "output_type": "execute_result"
    }
   ],
   "source": [
    "db.float() * firstCoinFlip"
   ]
  },
  {
   "cell_type": "code",
   "execution_count": 20,
   "metadata": {},
   "outputs": [
    {
     "data": {
      "text/plain": [
       "tensor([1., 1., 0., 0., 0., 0., 1., 0., 1., 0., 1., 1., 0., 1., 0., 0., 0., 0.,\n",
       "        0., 0., 0., 1., 1., 1., 0., 1., 0., 1., 1., 1., 0., 0., 0., 0., 0., 0.,\n",
       "        1., 0., 0., 0., 0., 0., 0., 0., 1., 0., 0., 0., 0., 0., 0., 1., 0., 0.,\n",
       "        0., 1., 0., 0., 0., 0., 0., 0., 0., 0., 1., 0., 1., 0., 0., 0., 0., 0.,\n",
       "        0., 0., 0., 0., 0., 0., 0., 1., 0., 1., 0., 0., 0., 1., 1., 0., 0., 1.,\n",
       "        0., 0., 0., 0., 0., 1., 0., 0., 0., 1.])"
      ]
     },
     "execution_count": 20,
     "metadata": {},
     "output_type": "execute_result"
    }
   ],
   "source": [
    "(1 - firstCoinFlip) * secondCoinFlip"
   ]
  },
  {
   "cell_type": "code",
   "execution_count": 27,
   "metadata": {},
   "outputs": [],
   "source": [
    "augmentedDatabase = db.float() * firstCoinFlip + (1-firstCoinFlip) * secondCoinFlip"
   ]
  },
  {
   "cell_type": "code",
   "execution_count": 28,
   "metadata": {},
   "outputs": [],
   "source": [
    "m = torch.mean(augmentedDatabase.float())"
   ]
  },
  {
   "cell_type": "code",
   "execution_count": 31,
   "metadata": {},
   "outputs": [],
   "source": [
    "# (meanOfDatabase + actual)/2 = augemented\n",
    "# DeSkew"
   ]
  },
  {
   "cell_type": "code",
   "execution_count": 33,
   "metadata": {},
   "outputs": [
    {
     "data": {
      "text/plain": [
       "tensor(0.5600)"
      ]
     },
     "execution_count": 33,
     "metadata": {},
     "output_type": "execute_result"
    }
   ],
   "source": [
    "augmentedResult = (m * 2) - 0.5\n",
    "augmentedResult"
   ]
  },
  {
   "cell_type": "markdown",
   "metadata": {},
   "source": [
    "# Lets Package"
   ]
  },
  {
   "cell_type": "code",
   "execution_count": 38,
   "metadata": {},
   "outputs": [],
   "source": [
    "def query(db):\n",
    "    \n",
    "    trueResult = torch.mean(db.float())\n",
    "    \n",
    "    firstCoinFlip = (torch.rand(len(db)) > 0.5).float()\n",
    "    secondCoinFlip = (torch.rand(len(db)) > 0.5).float()\n",
    "    \n",
    "    augmentedDatabase = db.float() * firstCoinFlip + ((1-firstCoinFlip) * secondCoinFlip)\n",
    "    \n",
    "    dbResult = torch.mean(augmentedDatabase.float()) * 2 - 0.5\n",
    "    \n",
    "    return dbResult , trueResult"
   ]
  },
  {
   "cell_type": "code",
   "execution_count": 39,
   "metadata": {},
   "outputs": [
    {
     "data": {
      "text/plain": [
       "(tensor(0.5400), tensor(0.5600))"
      ]
     },
     "execution_count": 39,
     "metadata": {},
     "output_type": "execute_result"
    }
   ],
   "source": [
    "query(db)"
   ]
  },
  {
   "cell_type": "code",
   "execution_count": 62,
   "metadata": {},
   "outputs": [
    {
     "name": "stdout",
     "output_type": "stream",
     "text": [
      "With Noise 0.30000001192092896 And Without Noise 0.6000000238418579\n"
     ]
    }
   ],
   "source": [
    "db, pdbs = get_createDB_and_parallels(10)\n",
    "withNoise, withoutNoise = query(db)\n",
    "print(\"With Noise {} And Without Noise {}\".format(withNoise,withoutNoise))"
   ]
  },
  {
   "cell_type": "code",
   "execution_count": 63,
   "metadata": {},
   "outputs": [
    {
     "name": "stdout",
     "output_type": "stream",
     "text": [
      "With Noise 0.5800000429153442 And Without Noise 0.5199999809265137\n"
     ]
    }
   ],
   "source": [
    "db, pdbs = get_createDB_and_parallels(100)\n",
    "withNoise, withoutNoise = query(db)\n",
    "print(\"With Noise {} And Without Noise {}\".format(withNoise,withoutNoise))"
   ]
  },
  {
   "cell_type": "code",
   "execution_count": 64,
   "metadata": {},
   "outputs": [
    {
     "name": "stdout",
     "output_type": "stream",
     "text": [
      "With Noise 0.4819999933242798 And Without Noise 0.5289999842643738\n"
     ]
    }
   ],
   "source": [
    "db, pdbs = get_createDB_and_parallels(1000)\n",
    "withNoise, withoutNoise = query(db)\n",
    "print(\"With Noise {} And Without Noise {}\".format(withNoise,withoutNoise))"
   ]
  },
  {
   "cell_type": "code",
   "execution_count": 65,
   "metadata": {},
   "outputs": [
    {
     "name": "stdout",
     "output_type": "stream",
     "text": [
      "With Noise 0.49299997091293335 And Without Noise 0.5026999711990356\n"
     ]
    }
   ],
   "source": [
    "db, pdbs = get_createDB_and_parallels(10000)\n",
    "withNoise, withoutNoise = query(db)\n",
    "print(\"With Noise {} And Without Noise {}\".format(withNoise,withoutNoise))"
   ]
  },
  {
   "cell_type": "markdown",
   "metadata": {},
   "source": [
    "# Project: Varying Amounts of Noise\n",
    "\n",
    "In this project, I want you to augment the randomized response query (the one we just wrote) to allow for varying amounts of randomness to be added. Specifically, I want you to bias the coin flip to be higher or lower and then run the same experiment. \n",
    "\n",
    "Note - this one is a bit tricker than you might expect. You need to both adjust the likelihood of the first coin flip AND the de-skewing at the end (where we create the \"augmented_result\" variable)."
   ]
  },
  {
   "cell_type": "markdown",
   "metadata": {},
   "source": [
    "# ------------------------------------"
   ]
  },
  {
   "cell_type": "code",
   "execution_count": 80,
   "metadata": {},
   "outputs": [],
   "source": [
    "trueResult = torch.mean(db.float())\n",
    "    \n",
    "firstCoinFlip = (torch.rand(len(db)) > noise).float() #Biased coin\n",
    "secondCoinFlip = (torch.rand(len(db)) > 0.5).float()\n",
    "\n",
    "augmentedDatabase = db.float() * firstCoinFlip + ((1-firstCoinFlip) * secondCoinFlip)\n",
    "\n",
    "#There will change in DeSkewing\n",
    "skResult = torch.mean(augmentedDatabase.float()) \n",
    "\n",
    "#return dbResult , trueResult"
   ]
  },
  {
   "cell_type": "code",
   "execution_count": 72,
   "metadata": {},
   "outputs": [],
   "source": [
    "trueMean = 0.7\n",
    "noiseMean = 0.5 #second coin flip\n"
   ]
  },
  {
   "cell_type": "code",
   "execution_count": 73,
   "metadata": {},
   "outputs": [
    {
     "data": {
      "text/plain": [
       "0.6"
      ]
     },
     "execution_count": 73,
     "metadata": {},
     "output_type": "execute_result"
    }
   ],
   "source": [
    "#Initially what we are doing is . . .\n",
    "augmentedMean = (trueMean + noiseMean)/2\n",
    "augmentedMean"
   ]
  },
  {
   "cell_type": "code",
   "execution_count": 76,
   "metadata": {},
   "outputs": [],
   "source": [
    "noise = 0.5 #First coin\n",
    "#Which actually means 50% of the time we use trueMean and 50% of the time we use noiseMean"
   ]
  },
  {
   "cell_type": "code",
   "execution_count": 78,
   "metadata": {},
   "outputs": [
    {
     "data": {
      "text/plain": [
       "0.6"
      ]
     },
     "execution_count": 78,
     "metadata": {},
     "output_type": "execute_result"
    }
   ],
   "source": [
    "augmentedMean = (trueMean*noise) + (noiseMean*(1 - noise))\n",
    "augmentedMean"
   ]
  },
  {
   "cell_type": "markdown",
   "metadata": {},
   "source": [
    "We can get trueMean from above equation by simple algebra"
   ]
  },
  {
   "cell_type": "code",
   "execution_count": 81,
   "metadata": {},
   "outputs": [],
   "source": [
    "privateResult = (skResult/noise) - ((0.5*(1-noise)) / noise) "
   ]
  },
  {
   "cell_type": "code",
   "execution_count": 82,
   "metadata": {},
   "outputs": [
    {
     "data": {
      "text/plain": [
       "tensor(0.5006)"
      ]
     },
     "execution_count": 82,
     "metadata": {},
     "output_type": "execute_result"
    }
   ],
   "source": [
    "privateResult"
   ]
  },
  {
   "cell_type": "code",
   "execution_count": 84,
   "metadata": {},
   "outputs": [
    {
     "data": {
      "text/plain": [
       "tensor(0.5003)"
      ]
     },
     "execution_count": 84,
     "metadata": {},
     "output_type": "execute_result"
    }
   ],
   "source": [
    "skResult"
   ]
  },
  {
   "cell_type": "markdown",
   "metadata": {},
   "source": [
    "# ------------------------------------"
   ]
  },
  {
   "cell_type": "code",
   "execution_count": 86,
   "metadata": {},
   "outputs": [],
   "source": [
    "def query(db, noise=0.2):\n",
    "    \n",
    "    trueResult = torch.mean(db.float())\n",
    "    \n",
    "    firstCoinFlip = (torch.rand(len(db)) > noise).float() #Biased coin\n",
    "    secondCoinFlip = (torch.rand(len(db)) > 0.5).float()\n",
    "    \n",
    "    augmentedDatabase = db.float() * firstCoinFlip + ((1-firstCoinFlip) * secondCoinFlip)\n",
    "    \n",
    "    #There will change in DeSkewing\n",
    "    skResult = torch.mean(augmentedDatabase.float()) \n",
    "    \n",
    "    privateResult = (skResult/noise) - ((0.5*(1-noise))/noise)\n",
    "    return privateResult , trueResult"
   ]
  },
  {
   "cell_type": "code",
   "execution_count": 87,
   "metadata": {},
   "outputs": [
    {
     "name": "stdout",
     "output_type": "stream",
     "text": [
      "With Noise 0.40000009536743164 And Without Noise 0.47999998927116394\n"
     ]
    }
   ],
   "source": [
    "db, pdbs = get_createDB_and_parallels(100)\n",
    "withNoise, withoutNoise = query(db, noise=0.1)\n",
    "print(\"With Noise {} And Without Noise {}\".format(withNoise,withoutNoise))"
   ]
  },
  {
   "cell_type": "code",
   "execution_count": 88,
   "metadata": {},
   "outputs": [
    {
     "name": "stdout",
     "output_type": "stream",
     "text": [
      "With Noise 0.7999999523162842 And Without Noise 0.5699999928474426\n"
     ]
    }
   ],
   "source": [
    "db, pdbs = get_createDB_and_parallels(100)\n",
    "withNoise, withoutNoise = query(db, noise=0.2)\n",
    "print(\"With Noise {} And Without Noise {}\".format(withNoise,withoutNoise))"
   ]
  },
  {
   "cell_type": "code",
   "execution_count": 89,
   "metadata": {},
   "outputs": [
    {
     "name": "stdout",
     "output_type": "stream",
     "text": [
      "With Noise 0.6749999523162842 And Without Noise 0.5799999833106995\n"
     ]
    }
   ],
   "source": [
    "db, pdbs = get_createDB_and_parallels(100)\n",
    "withNoise, withoutNoise = query(db, noise=0.4)\n",
    "print(\"With Noise {} And Without Noise {}\".format(withNoise,withoutNoise))"
   ]
  },
  {
   "cell_type": "code",
   "execution_count": 90,
   "metadata": {},
   "outputs": [
    {
     "name": "stdout",
     "output_type": "stream",
     "text": [
      "With Noise 0.42500001192092896 And Without Noise 0.47999998927116394\n"
     ]
    }
   ],
   "source": [
    "db, pdbs = get_createDB_and_parallels(100)\n",
    "withNoise, withoutNoise = query(db, noise=0.8)\n",
    "print(\"With Noise {} And Without Noise {}\".format(withNoise,withoutNoise))"
   ]
  },
  {
   "cell_type": "code",
   "execution_count": 91,
   "metadata": {},
   "outputs": [
    {
     "name": "stdout",
     "output_type": "stream",
     "text": [
      "With Noise 0.48149991035461426 And Without Noise 0.5004000067710876\n"
     ]
    }
   ],
   "source": [
    "db, pdbs = get_createDB_and_parallels(10000)\n",
    "withNoise, withoutNoise = query(db, noise=0.2)\n",
    "print(\"With Noise {} And Without Noise {}\".format(withNoise,withoutNoise))"
   ]
  },
  {
   "cell_type": "code",
   "execution_count": null,
   "metadata": {},
   "outputs": [],
   "source": []
  }
 ],
 "metadata": {
  "kernelspec": {
   "display_name": "Python 3",
   "language": "python",
   "name": "python3"
  },
  "language_info": {
   "codemirror_mode": {
    "name": "ipython",
    "version": 3
   },
   "file_extension": ".py",
   "mimetype": "text/x-python",
   "name": "python",
   "nbconvert_exporter": "python",
   "pygments_lexer": "ipython3",
   "version": "3.7.3"
  }
 },
 "nbformat": 4,
 "nbformat_minor": 2
}
